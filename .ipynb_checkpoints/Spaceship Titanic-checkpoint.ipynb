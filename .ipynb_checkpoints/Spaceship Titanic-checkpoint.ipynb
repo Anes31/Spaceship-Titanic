{
 "cells": [
  {
   "cell_type": "code",
   "execution_count": 1,
   "id": "b81997c8",
   "metadata": {},
   "outputs": [
    {
     "name": "stderr",
     "output_type": "stream",
     "text": [
      "C:\\Users\\Anes3\\Anaconda3\\lib\\site-packages\\dask\\dataframe\\utils.py:14: FutureWarning: pandas.util.testing is deprecated. Use the functions in the public API at pandas.testing instead.\n",
      "  import pandas.util.testing as tm\n"
     ]
    }
   ],
   "source": [
    "import pandas as pd\n",
    "import numpy as np\n",
    "import matplotlib.pyplot as plt\n",
    "import seaborn as sns\n",
    "\n",
    "from sklearn.impute import SimpleImputer\n",
    "import scipy.stats\n",
    "from sklearn.preprocessing import StandardScaler\n",
    "\n",
    "from sklearn.ensemble import RandomForestClassifier, GradientBoostingClassifier, AdaBoostClassifier, VotingClassifier\n",
    "from lightgbm import LGBMClassifier\n",
    "from sklearn.linear_model import LogisticRegression\n",
    "from sklearn.neighbors import KNeighborsRegressor\n",
    "from sklearn.model_selection import train_test_split, KFold, cross_val_score\n",
    "from sklearn.metrics import accuracy_score\n",
    "\n",
    "from pycaret.classification import setup, compare_models, evaluate_model, plot_model\n",
    "import optuna"
   ]
  },
  {
   "cell_type": "code",
   "execution_count": 2,
   "id": "1a5882e5",
   "metadata": {},
   "outputs": [],
   "source": [
    "pd.set_option('display.max_columns', None)"
   ]
  },
  {
   "cell_type": "code",
   "execution_count": 3,
   "id": "daa722d2",
   "metadata": {},
   "outputs": [],
   "source": [
    "train_data = pd.read_csv('train.csv')\n",
    "test_data = pd.read_csv('test.csv')"
   ]
  },
  {
   "cell_type": "markdown",
   "id": "210ff0a7",
   "metadata": {},
   "source": [
    "# Combine train and test data and split features/target"
   ]
  },
  {
   "cell_type": "code",
   "execution_count": 4,
   "id": "d515e60e",
   "metadata": {},
   "outputs": [],
   "source": [
    "data0 = pd.concat([train_data.iloc[:, :-1], test_data]).reset_index(drop=True)\n",
    "target = train_data['Transported']"
   ]
  },
  {
   "cell_type": "code",
   "execution_count": 5,
   "id": "a6c4e185",
   "metadata": {},
   "outputs": [
    {
     "data": {
      "text/plain": [
       "(12970, 13)"
      ]
     },
     "execution_count": 5,
     "metadata": {},
     "output_type": "execute_result"
    }
   ],
   "source": [
    "data0.shape"
   ]
  },
  {
   "cell_type": "code",
   "execution_count": 6,
   "id": "d709b2a2",
   "metadata": {},
   "outputs": [
    {
     "data": {
      "text/html": [
       "<div>\n",
       "<style scoped>\n",
       "    .dataframe tbody tr th:only-of-type {\n",
       "        vertical-align: middle;\n",
       "    }\n",
       "\n",
       "    .dataframe tbody tr th {\n",
       "        vertical-align: top;\n",
       "    }\n",
       "\n",
       "    .dataframe thead th {\n",
       "        text-align: right;\n",
       "    }\n",
       "</style>\n",
       "<table border=\"1\" class=\"dataframe\">\n",
       "  <thead>\n",
       "    <tr style=\"text-align: right;\">\n",
       "      <th></th>\n",
       "      <th>PassengerId</th>\n",
       "      <th>HomePlanet</th>\n",
       "      <th>CryoSleep</th>\n",
       "      <th>Cabin</th>\n",
       "      <th>Destination</th>\n",
       "      <th>Age</th>\n",
       "      <th>VIP</th>\n",
       "      <th>RoomService</th>\n",
       "      <th>FoodCourt</th>\n",
       "      <th>ShoppingMall</th>\n",
       "      <th>Spa</th>\n",
       "      <th>VRDeck</th>\n",
       "      <th>Name</th>\n",
       "    </tr>\n",
       "  </thead>\n",
       "  <tbody>\n",
       "    <tr>\n",
       "      <th>0</th>\n",
       "      <td>0001_01</td>\n",
       "      <td>Europa</td>\n",
       "      <td>False</td>\n",
       "      <td>B/0/P</td>\n",
       "      <td>TRAPPIST-1e</td>\n",
       "      <td>39.0</td>\n",
       "      <td>False</td>\n",
       "      <td>0.0</td>\n",
       "      <td>0.0</td>\n",
       "      <td>0.0</td>\n",
       "      <td>0.0</td>\n",
       "      <td>0.0</td>\n",
       "      <td>Maham Ofracculy</td>\n",
       "    </tr>\n",
       "    <tr>\n",
       "      <th>1</th>\n",
       "      <td>0002_01</td>\n",
       "      <td>Earth</td>\n",
       "      <td>False</td>\n",
       "      <td>F/0/S</td>\n",
       "      <td>TRAPPIST-1e</td>\n",
       "      <td>24.0</td>\n",
       "      <td>False</td>\n",
       "      <td>109.0</td>\n",
       "      <td>9.0</td>\n",
       "      <td>25.0</td>\n",
       "      <td>549.0</td>\n",
       "      <td>44.0</td>\n",
       "      <td>Juanna Vines</td>\n",
       "    </tr>\n",
       "    <tr>\n",
       "      <th>2</th>\n",
       "      <td>0003_01</td>\n",
       "      <td>Europa</td>\n",
       "      <td>False</td>\n",
       "      <td>A/0/S</td>\n",
       "      <td>TRAPPIST-1e</td>\n",
       "      <td>58.0</td>\n",
       "      <td>True</td>\n",
       "      <td>43.0</td>\n",
       "      <td>3576.0</td>\n",
       "      <td>0.0</td>\n",
       "      <td>6715.0</td>\n",
       "      <td>49.0</td>\n",
       "      <td>Altark Susent</td>\n",
       "    </tr>\n",
       "    <tr>\n",
       "      <th>3</th>\n",
       "      <td>0003_02</td>\n",
       "      <td>Europa</td>\n",
       "      <td>False</td>\n",
       "      <td>A/0/S</td>\n",
       "      <td>TRAPPIST-1e</td>\n",
       "      <td>33.0</td>\n",
       "      <td>False</td>\n",
       "      <td>0.0</td>\n",
       "      <td>1283.0</td>\n",
       "      <td>371.0</td>\n",
       "      <td>3329.0</td>\n",
       "      <td>193.0</td>\n",
       "      <td>Solam Susent</td>\n",
       "    </tr>\n",
       "    <tr>\n",
       "      <th>4</th>\n",
       "      <td>0004_01</td>\n",
       "      <td>Earth</td>\n",
       "      <td>False</td>\n",
       "      <td>F/1/S</td>\n",
       "      <td>TRAPPIST-1e</td>\n",
       "      <td>16.0</td>\n",
       "      <td>False</td>\n",
       "      <td>303.0</td>\n",
       "      <td>70.0</td>\n",
       "      <td>151.0</td>\n",
       "      <td>565.0</td>\n",
       "      <td>2.0</td>\n",
       "      <td>Willy Santantines</td>\n",
       "    </tr>\n",
       "  </tbody>\n",
       "</table>\n",
       "</div>"
      ],
      "text/plain": [
       "  PassengerId HomePlanet CryoSleep  Cabin  Destination   Age    VIP  \\\n",
       "0     0001_01     Europa     False  B/0/P  TRAPPIST-1e  39.0  False   \n",
       "1     0002_01      Earth     False  F/0/S  TRAPPIST-1e  24.0  False   \n",
       "2     0003_01     Europa     False  A/0/S  TRAPPIST-1e  58.0   True   \n",
       "3     0003_02     Europa     False  A/0/S  TRAPPIST-1e  33.0  False   \n",
       "4     0004_01      Earth     False  F/1/S  TRAPPIST-1e  16.0  False   \n",
       "\n",
       "   RoomService  FoodCourt  ShoppingMall     Spa  VRDeck               Name  \n",
       "0          0.0        0.0           0.0     0.0     0.0    Maham Ofracculy  \n",
       "1        109.0        9.0          25.0   549.0    44.0       Juanna Vines  \n",
       "2         43.0     3576.0           0.0  6715.0    49.0      Altark Susent  \n",
       "3          0.0     1283.0         371.0  3329.0   193.0       Solam Susent  \n",
       "4        303.0       70.0         151.0   565.0     2.0  Willy Santantines  "
      ]
     },
     "execution_count": 6,
     "metadata": {},
     "output_type": "execute_result"
    }
   ],
   "source": [
    "data0.head()"
   ]
  },
  {
   "cell_type": "code",
   "execution_count": 7,
   "id": "d9ab07bc",
   "metadata": {},
   "outputs": [
    {
     "data": {
      "text/html": [
       "<div>\n",
       "<style scoped>\n",
       "    .dataframe tbody tr th:only-of-type {\n",
       "        vertical-align: middle;\n",
       "    }\n",
       "\n",
       "    .dataframe tbody tr th {\n",
       "        vertical-align: top;\n",
       "    }\n",
       "\n",
       "    .dataframe thead th {\n",
       "        text-align: right;\n",
       "    }\n",
       "</style>\n",
       "<table border=\"1\" class=\"dataframe\">\n",
       "  <thead>\n",
       "    <tr style=\"text-align: right;\">\n",
       "      <th></th>\n",
       "      <th>Age</th>\n",
       "      <th>RoomService</th>\n",
       "      <th>FoodCourt</th>\n",
       "      <th>ShoppingMall</th>\n",
       "      <th>Spa</th>\n",
       "      <th>VRDeck</th>\n",
       "    </tr>\n",
       "  </thead>\n",
       "  <tbody>\n",
       "    <tr>\n",
       "      <th>count</th>\n",
       "      <td>12700.000000</td>\n",
       "      <td>12707.000000</td>\n",
       "      <td>12681.000000</td>\n",
       "      <td>12664.000000</td>\n",
       "      <td>12686.000000</td>\n",
       "      <td>12702.000000</td>\n",
       "    </tr>\n",
       "    <tr>\n",
       "      <th>mean</th>\n",
       "      <td>28.771969</td>\n",
       "      <td>222.897852</td>\n",
       "      <td>451.961675</td>\n",
       "      <td>174.906033</td>\n",
       "      <td>308.476904</td>\n",
       "      <td>306.789482</td>\n",
       "    </tr>\n",
       "    <tr>\n",
       "      <th>std</th>\n",
       "      <td>14.387261</td>\n",
       "      <td>647.596664</td>\n",
       "      <td>1584.370747</td>\n",
       "      <td>590.558690</td>\n",
       "      <td>1130.279641</td>\n",
       "      <td>1180.097223</td>\n",
       "    </tr>\n",
       "    <tr>\n",
       "      <th>min</th>\n",
       "      <td>0.000000</td>\n",
       "      <td>0.000000</td>\n",
       "      <td>0.000000</td>\n",
       "      <td>0.000000</td>\n",
       "      <td>0.000000</td>\n",
       "      <td>0.000000</td>\n",
       "    </tr>\n",
       "    <tr>\n",
       "      <th>25%</th>\n",
       "      <td>19.000000</td>\n",
       "      <td>0.000000</td>\n",
       "      <td>0.000000</td>\n",
       "      <td>0.000000</td>\n",
       "      <td>0.000000</td>\n",
       "      <td>0.000000</td>\n",
       "    </tr>\n",
       "    <tr>\n",
       "      <th>50%</th>\n",
       "      <td>27.000000</td>\n",
       "      <td>0.000000</td>\n",
       "      <td>0.000000</td>\n",
       "      <td>0.000000</td>\n",
       "      <td>0.000000</td>\n",
       "      <td>0.000000</td>\n",
       "    </tr>\n",
       "    <tr>\n",
       "      <th>75%</th>\n",
       "      <td>38.000000</td>\n",
       "      <td>49.000000</td>\n",
       "      <td>77.000000</td>\n",
       "      <td>29.000000</td>\n",
       "      <td>57.000000</td>\n",
       "      <td>42.000000</td>\n",
       "    </tr>\n",
       "    <tr>\n",
       "      <th>max</th>\n",
       "      <td>79.000000</td>\n",
       "      <td>14327.000000</td>\n",
       "      <td>29813.000000</td>\n",
       "      <td>23492.000000</td>\n",
       "      <td>22408.000000</td>\n",
       "      <td>24133.000000</td>\n",
       "    </tr>\n",
       "  </tbody>\n",
       "</table>\n",
       "</div>"
      ],
      "text/plain": [
       "                Age   RoomService     FoodCourt  ShoppingMall           Spa  \\\n",
       "count  12700.000000  12707.000000  12681.000000  12664.000000  12686.000000   \n",
       "mean      28.771969    222.897852    451.961675    174.906033    308.476904   \n",
       "std       14.387261    647.596664   1584.370747    590.558690   1130.279641   \n",
       "min        0.000000      0.000000      0.000000      0.000000      0.000000   \n",
       "25%       19.000000      0.000000      0.000000      0.000000      0.000000   \n",
       "50%       27.000000      0.000000      0.000000      0.000000      0.000000   \n",
       "75%       38.000000     49.000000     77.000000     29.000000     57.000000   \n",
       "max       79.000000  14327.000000  29813.000000  23492.000000  22408.000000   \n",
       "\n",
       "             VRDeck  \n",
       "count  12702.000000  \n",
       "mean     306.789482  \n",
       "std     1180.097223  \n",
       "min        0.000000  \n",
       "25%        0.000000  \n",
       "50%        0.000000  \n",
       "75%       42.000000  \n",
       "max    24133.000000  "
      ]
     },
     "execution_count": 7,
     "metadata": {},
     "output_type": "execute_result"
    }
   ],
   "source": [
    "data0.describe()"
   ]
  },
  {
   "cell_type": "code",
   "execution_count": 8,
   "id": "927e55fb",
   "metadata": {},
   "outputs": [
    {
     "data": {
      "text/plain": [
       "PassengerId       0\n",
       "HomePlanet      288\n",
       "CryoSleep       310\n",
       "Cabin           299\n",
       "Destination     274\n",
       "Age             270\n",
       "VIP             296\n",
       "RoomService     263\n",
       "FoodCourt       289\n",
       "ShoppingMall    306\n",
       "Spa             284\n",
       "VRDeck          268\n",
       "Name            294\n",
       "dtype: int64"
      ]
     },
     "execution_count": 8,
     "metadata": {},
     "output_type": "execute_result"
    }
   ],
   "source": [
    "data0.isnull().sum()"
   ]
  },
  {
   "cell_type": "code",
   "execution_count": 9,
   "id": "e8e03a24",
   "metadata": {},
   "outputs": [],
   "source": [
    "data1 = data0.copy()"
   ]
  },
  {
   "cell_type": "markdown",
   "id": "9038fa40",
   "metadata": {},
   "source": [
    "# Feature Engineering"
   ]
  },
  {
   "cell_type": "code",
   "execution_count": 10,
   "id": "a2dee404",
   "metadata": {},
   "outputs": [],
   "source": [
    "data1['GroupId'] = data1['PassengerId'].apply(lambda x: x.split('_')[0])\n",
    "#data1['GroupNum'] = data1['PassengerId'].apply(lambda x: x.split('_')[1])\n",
    "data1['Deck'] = data1.Cabin.apply(lambda x: str(x).split('/')[0] if x is not np.nan else x)\n",
    "#data1['Num'] = data1.Cabin.apply(lambda x: str(x).split('/')[1] if x is not np.nan else x)\n",
    "data1['Side'] = data1.Cabin.apply(lambda x: str(x).split('/')[2] if x is not np.nan else x)\n",
    "\n",
    "data1 = data1.drop(['PassengerId', 'Cabin'], axis=1)"
   ]
  },
  {
   "cell_type": "code",
   "execution_count": 11,
   "id": "6364d81c",
   "metadata": {},
   "outputs": [],
   "source": [
    "data2 = data1.copy()"
   ]
  },
  {
   "cell_type": "markdown",
   "id": "a13198a1",
   "metadata": {},
   "source": [
    "# Categorical data cleaning"
   ]
  },
  {
   "cell_type": "markdown",
   "id": "5f46cb36",
   "metadata": {},
   "source": [
    "### Let's drop the name column for now"
   ]
  },
  {
   "cell_type": "code",
   "execution_count": 12,
   "id": "9f82fb12",
   "metadata": {},
   "outputs": [],
   "source": [
    "data2 = data2.drop('Name', axis=1)"
   ]
  },
  {
   "cell_type": "code",
   "execution_count": 13,
   "id": "12183633",
   "metadata": {},
   "outputs": [
    {
     "data": {
      "image/png": "[encoded data removed]",
      "text/plain": [
       "<Figure size 800x550 with 1 Axes>"
      ]
     },
     "metadata": {},
     "output_type": "display_data"
    }
   ],
   "source": [
    "sns.histplot(x=data2.HomePlanet, hue=data2.Destination, multiple=\"dodge\", shrink=.8)\n",
    "plt.show()"
   ]
  },
  {
   "cell_type": "code",
   "execution_count": 14,
   "id": "04fdd68e",
   "metadata": {},
   "outputs": [
    {
     "name": "stdout",
     "output_type": "stream",
     "text": [
      "\n",
      "The P-Value of the ChiSq Test is: 2.636191617019482e-243\n"
     ]
    }
   ],
   "source": [
    "CrosstabResult = pd.crosstab(index=data2['HomePlanet'],columns=data2['GroupId'])\n",
    "#print(CrosstabResult)\n",
    "\n",
    "ChiSqResult = scipy.stats.chi2_contingency(CrosstabResult)\n",
    "print('\\nThe P-Value of the ChiSq Test is:', ChiSqResult[1])"
   ]
  },
  {
   "cell_type": "code",
   "execution_count": 15,
   "id": "309a5d61",
   "metadata": {},
   "outputs": [
    {
     "data": {
      "text/plain": [
       "<AxesSubplot:xlabel='Age', ylabel='Count'>"
      ]
     },
     "execution_count": 15,
     "metadata": {},
     "output_type": "execute_result"
    },
    {
     "data": {
      "image/png": "[encoded data removed]",
      "text/plain": [
       "<Figure size 800x550 with 1 Axes>"
      ]
     },
     "metadata": {},
     "output_type": "display_data"
    }
   ],
   "source": [
    "sns.histplot(x=data2.Age, hue=data2.VIP, multiple=\"dodge\", shrink=.8, bins=10)"
   ]
  },
  {
   "cell_type": "code",
   "execution_count": 16,
   "id": "26255701",
   "metadata": {},
   "outputs": [],
   "source": [
    "#Assuming the most of people in a group are often family members then same home planet and destination\n",
    "data2['HomePlanet'] = data2.groupby(['GroupId'], sort=False)['HomePlanet'].apply(lambda x: x.ffill().bfill())\n",
    "data2['Destination'] = data2.groupby(['GroupId'], sort=False)['Destination'].apply(lambda x: x.ffill().bfill())\n",
    "#How would you shop and spend money on luxury if you're in a cryosleep?\n",
    "data2.CryoSleep.loc[(data2.FoodCourt>0) | (data2.RoomService>0) | (data2.ShoppingMall>0) | (data2.Spa>0) | (data2.VRDeck>0)] = False\n",
    "\n",
    "categorical_columns = [col for col in data2.columns if data2[col].dtypes=='object']\n",
    "categorical_imputer = SimpleImputer(strategy='most_frequent')\n",
    "data2[categorical_columns] = pd.DataFrame(categorical_imputer.fit_transform(data2[categorical_columns]))"
   ]
  },
  {
   "cell_type": "code",
   "execution_count": 17,
   "id": "8188476f",
   "metadata": {},
   "outputs": [],
   "source": [
    "data3 = data2.copy()"
   ]
  },
  {
   "cell_type": "markdown",
   "id": "eb7de040",
   "metadata": {},
   "source": [
    "# Numerical data cleaning"
   ]
  },
  {
   "cell_type": "code",
   "execution_count": 18,
   "id": "4b00644a",
   "metadata": {},
   "outputs": [
    {
     "data": {
      "image/png": "[encoded data removed]",
      "text/plain": [
       "<Figure size 800x550 with 1 Axes>"
      ]
     },
     "metadata": {},
     "output_type": "display_data"
    },
    {
     "data": {
      "image/png": "[encoded data removed]",
      "text/plain": [
       "<Figure size 800x550 with 1 Axes>"
      ]
     },
     "metadata": {},
     "output_type": "display_data"
    },
    {
     "data": {
      "image/png": "[encoded data removed]",
      "text/plain": [
       "<Figure size 800x550 with 1 Axes>"
      ]
     },
     "metadata": {},
     "output_type": "display_data"
    },
    {
     "data": {
      "image/png": "[encoded data removed]",
      "text/plain": [
       "<Figure size 800x550 with 1 Axes>"
      ]
     },
     "metadata": {},
     "output_type": "display_data"
    },
    {
     "data": {
      "image/png": "[encoded data removed]",
      "text/plain": [
       "<Figure size 800x550 with 1 Axes>"
      ]
     },
     "metadata": {},
     "output_type": "display_data"
    }
   ],
   "source": [
    "for col in ['RoomService', 'FoodCourt', 'ShoppingMall', 'Spa', 'VRDeck']:\n",
    "    sns.barplot(x=data3['VIP'], y=data3[col])\n",
    "    plt.show()"
   ]
  },
  {
   "cell_type": "code",
   "execution_count": 19,
   "id": "7432a880",
   "metadata": {},
   "outputs": [],
   "source": [
    "numerical_columns = [col for col in data3.columns if data3[col].dtypes=='float64']\n",
    "\n",
    "for col in data3[numerical_columns]:\n",
    "    if col!='Age':\n",
    "        #If cryosleep then no money spent\n",
    "        data3[col].loc[data3['CryoSleep']==True] = data3[col].loc[data3['CryoSleep']==True].fillna(0)\n",
    "        #If not cryosleep then it median of either VIP or not VIP\n",
    "        data3[col].loc[(data3['CryoSleep']==False) & (data3['VIP']==True)] = data3[col].loc[(data3['CryoSleep']==False) & (data3['VIP']==True)].fillna(data3[col].loc[(data3['CryoSleep']==False) & (data3['VIP']==True)].median())\n",
    "        data3[col].loc[(data3['CryoSleep']==False) & (data3['VIP']==False)] = data3[col].loc[(data3['CryoSleep']==False) & (data3['VIP']==False)].fillna(data3[col].loc[(data3['CryoSleep']==False) & (data3['VIP']==False)].median())\n",
    "\n",
    "numeric_df = data3.select_dtypes(np.number)\n",
    "non_na_columns = numeric_df.loc[: ,numeric_df.isna().sum() == 0].columns\n",
    "\n",
    "#Use KNN for age\n",
    "y_train = numeric_df.loc[numeric_df['Age'].isna() == False, 'Age']\n",
    "X_train = numeric_df.loc[numeric_df['Age'].isna() == False, non_na_columns]\n",
    "X_test = numeric_df.loc[numeric_df['Age'].isna() == True, non_na_columns]\n",
    "\n",
    "knn = KNeighborsRegressor()\n",
    "knn.fit(X_train, y_train)\n",
    "\n",
    "y_pred = knn.predict(X_test)\n",
    "\n",
    "data3.loc[data3['Age'].isna() == True, 'Age'] = y_pred"
   ]
  },
  {
   "cell_type": "code",
   "execution_count": 20,
   "id": "95554769",
   "metadata": {},
   "outputs": [
    {
     "data": {
      "text/plain": [
       "HomePlanet      0\n",
       "CryoSleep       0\n",
       "Destination     0\n",
       "Age             0\n",
       "VIP             0\n",
       "RoomService     0\n",
       "FoodCourt       0\n",
       "ShoppingMall    0\n",
       "Spa             0\n",
       "VRDeck          0\n",
       "GroupId         0\n",
       "Deck            0\n",
       "Side            0\n",
       "dtype: int64"
      ]
     },
     "execution_count": 20,
     "metadata": {},
     "output_type": "execute_result"
    }
   ],
   "source": [
    "data3.isnull().sum()"
   ]
  },
  {
   "cell_type": "code",
   "execution_count": 21,
   "id": "9b8775d8",
   "metadata": {},
   "outputs": [],
   "source": [
    "data4 = data3.copy()"
   ]
  },
  {
   "cell_type": "markdown",
   "id": "3192f38d",
   "metadata": {},
   "source": [
    "# Feature Transformation"
   ]
  },
  {
   "cell_type": "markdown",
   "id": "8f3f676c",
   "metadata": {},
   "source": [
    "### Update categorical_columns"
   ]
  },
  {
   "cell_type": "code",
   "execution_count": 22,
   "id": "b4eb9129",
   "metadata": {},
   "outputs": [],
   "source": [
    "categorical_columns = [col for col in data4.columns if data4[col].dtypes=='object' and col!='GroupId']\n",
    "\n",
    "for col in data4[categorical_columns]:\n",
    "    dummies = pd.get_dummies(data4[col], prefix=col, drop_first=True)\n",
    "    data4 = pd.concat([data4, dummies], axis=1)\n",
    "    data4 = data4.drop([col], axis=1)"
   ]
  },
  {
   "cell_type": "code",
   "execution_count": 23,
   "id": "2b3fee9a",
   "metadata": {},
   "outputs": [
    {
     "name": "stdout",
     "output_type": "stream",
     "text": [
      "RoomService skewness: 6.200813957564028\n",
      "FoodCourt skewness: 7.130542574957275\n",
      "ShoppingMall skewness: 11.12622598927254\n",
      "Spa skewness: 7.736501979602736\n",
      "VRDeck skewness: 8.142427726419768\n"
     ]
    }
   ],
   "source": [
    "skew_cols = []\n",
    "for col in data4[numerical_columns]:\n",
    "    if scipy.stats.skew(data4[col])>=5:\n",
    "        print(col, 'skewness:', scipy.stats.skew(data4[col]))\n",
    "        skew_cols.append(col)"
   ]
  },
  {
   "cell_type": "code",
   "execution_count": 24,
   "id": "257bb19c",
   "metadata": {},
   "outputs": [],
   "source": [
    "data4 = data4.drop('GroupId', axis=1)"
   ]
  },
  {
   "cell_type": "code",
   "execution_count": 25,
   "id": "74491eea",
   "metadata": {},
   "outputs": [],
   "source": [
    "data5 = data4.copy()"
   ]
  },
  {
   "cell_type": "markdown",
   "id": "21de6a57",
   "metadata": {},
   "source": [
    "# Feature Scaling"
   ]
  },
  {
   "cell_type": "code",
   "execution_count": 26,
   "id": "04c170ca",
   "metadata": {},
   "outputs": [],
   "source": [
    "scaler = StandardScaler()\n",
    "\n",
    "scaler.fit(data5)\n",
    "data5 = pd.DataFrame(scaler.transform(data5), index=data5.index, columns=data5.columns)"
   ]
  },
  {
   "cell_type": "code",
   "execution_count": 27,
   "id": "5a993ee7",
   "metadata": {},
   "outputs": [],
   "source": [
    "data6 = data5.copy()"
   ]
  },
  {
   "cell_type": "markdown",
   "id": "b26dd74c",
   "metadata": {},
   "source": [
    "# Target Transformation"
   ]
  },
  {
   "cell_type": "code",
   "execution_count": 28,
   "id": "455eb517",
   "metadata": {},
   "outputs": [],
   "source": [
    "num_target = target.astype(int)"
   ]
  },
  {
   "cell_type": "markdown",
   "id": "93893654",
   "metadata": {},
   "source": [
    "# Split back to train and test datasets"
   ]
  },
  {
   "cell_type": "code",
   "execution_count": 29,
   "id": "cecd94f6",
   "metadata": {},
   "outputs": [],
   "source": [
    "train_final = data6.iloc[:8692+1, :]\n",
    "test_final = data6.iloc[8692+1:, :].reset_index(drop=True)"
   ]
  },
  {
   "cell_type": "markdown",
   "id": "993458ce",
   "metadata": {},
   "source": [
    "# Based Model"
   ]
  },
  {
   "cell_type": "code",
   "execution_count": 30,
   "id": "f7d76893",
   "metadata": {},
   "outputs": [
    {
     "name": "stdout",
     "output_type": "stream",
     "text": [
      "Accuracy: 0.79\n"
     ]
    }
   ],
   "source": [
    "rf = RandomForestClassifier(n_estimators=100, random_state=0)\n",
    "\n",
    "results = []\n",
    "\n",
    "kf = KFold(n_splits=10)\n",
    "\n",
    "r = cross_val_score(rf, train_final, num_target, scoring='accuracy')\n",
    "results.append(r)\n",
    "print(f'Accuracy: {np.mean(results).round(2)}')"
   ]
  },
  {
   "cell_type": "markdown",
   "id": "434d8d32",
   "metadata": {},
   "source": [
    "# Compare Models"
   ]
  },
  {
   "cell_type": "code",
   "execution_count": 31,
   "id": "3f0d0ec3",
   "metadata": {
    "scrolled": true
   },
   "outputs": [
    {
     "data": {
      "text/html": [
       "<style type=\"text/css\">\n",
       "#T_85b59_row44_col1 {\n",
       "  background-color: lightgreen;\n",
       "}\n",
       "</style>\n",
       "<table id=\"T_85b59_\">\n",
       "  <thead>\n",
       "    <tr>\n",
       "      <th class=\"blank level0\" >&nbsp;</th>\n",
       "      <th class=\"col_heading level0 col0\" >Description</th>\n",
       "      <th class=\"col_heading level0 col1\" >Value</th>\n",
       "    </tr>\n",
       "  </thead>\n",
       "  <tbody>\n",
       "    <tr>\n",
       "      <th id=\"T_85b59_level0_row0\" class=\"row_heading level0 row0\" >0</th>\n",
       "      <td id=\"T_85b59_row0_col0\" class=\"data row0 col0\" >session_id</td>\n",
       "      <td id=\"T_85b59_row0_col1\" class=\"data row0 col1\" >791</td>\n",
       "    </tr>\n",
       "    <tr>\n",
       "      <th id=\"T_85b59_level0_row1\" class=\"row_heading level0 row1\" >1</th>\n",
       "      <td id=\"T_85b59_row1_col0\" class=\"data row1 col0\" >Target</td>\n",
       "      <td id=\"T_85b59_row1_col1\" class=\"data row1 col1\" >Transported</td>\n",
       "    </tr>\n",
       "    <tr>\n",
       "      <th id=\"T_85b59_level0_row2\" class=\"row_heading level0 row2\" >2</th>\n",
       "      <td id=\"T_85b59_row2_col0\" class=\"data row2 col0\" >Target Type</td>\n",
       "      <td id=\"T_85b59_row2_col1\" class=\"data row2 col1\" >Binary</td>\n",
       "    </tr>\n",
       "    <tr>\n",
       "      <th id=\"T_85b59_level0_row3\" class=\"row_heading level0 row3\" >3</th>\n",
       "      <td id=\"T_85b59_row3_col0\" class=\"data row3 col0\" >Label Encoded</td>\n",
       "      <td id=\"T_85b59_row3_col1\" class=\"data row3 col1\" >None</td>\n",
       "    </tr>\n",
       "    <tr>\n",
       "      <th id=\"T_85b59_level0_row4\" class=\"row_heading level0 row4\" >4</th>\n",
       "      <td id=\"T_85b59_row4_col0\" class=\"data row4 col0\" >Original Data</td>\n",
       "      <td id=\"T_85b59_row4_col1\" class=\"data row4 col1\" >(8693, 21)</td>\n",
       "    </tr>\n",
       "    <tr>\n",
       "      <th id=\"T_85b59_level0_row5\" class=\"row_heading level0 row5\" >5</th>\n",
       "      <td id=\"T_85b59_row5_col0\" class=\"data row5 col0\" >Missing Values</td>\n",
       "      <td id=\"T_85b59_row5_col1\" class=\"data row5 col1\" >False</td>\n",
       "    </tr>\n",
       "    <tr>\n",
       "      <th id=\"T_85b59_level0_row6\" class=\"row_heading level0 row6\" >6</th>\n",
       "      <td id=\"T_85b59_row6_col0\" class=\"data row6 col0\" >Numeric Features</td>\n",
       "      <td id=\"T_85b59_row6_col1\" class=\"data row6 col1\" >20</td>\n",
       "    </tr>\n",
       "    <tr>\n",
       "      <th id=\"T_85b59_level0_row7\" class=\"row_heading level0 row7\" >7</th>\n",
       "      <td id=\"T_85b59_row7_col0\" class=\"data row7 col0\" >Categorical Features</td>\n",
       "      <td id=\"T_85b59_row7_col1\" class=\"data row7 col1\" >0</td>\n",
       "    </tr>\n",
       "    <tr>\n",
       "      <th id=\"T_85b59_level0_row8\" class=\"row_heading level0 row8\" >8</th>\n",
       "      <td id=\"T_85b59_row8_col0\" class=\"data row8 col0\" >Ordinal Features</td>\n",
       "      <td id=\"T_85b59_row8_col1\" class=\"data row8 col1\" >False</td>\n",
       "    </tr>\n",
       "    <tr>\n",
       "      <th id=\"T_85b59_level0_row9\" class=\"row_heading level0 row9\" >9</th>\n",
       "      <td id=\"T_85b59_row9_col0\" class=\"data row9 col0\" >High Cardinality Features</td>\n",
       "      <td id=\"T_85b59_row9_col1\" class=\"data row9 col1\" >False</td>\n",
       "    </tr>\n",
       "    <tr>\n",
       "      <th id=\"T_85b59_level0_row10\" class=\"row_heading level0 row10\" >10</th>\n",
       "      <td id=\"T_85b59_row10_col0\" class=\"data row10 col0\" >High Cardinality Method</td>\n",
       "      <td id=\"T_85b59_row10_col1\" class=\"data row10 col1\" >None</td>\n",
       "    </tr>\n",
       "    <tr>\n",
       "      <th id=\"T_85b59_level0_row11\" class=\"row_heading level0 row11\" >11</th>\n",
       "      <td id=\"T_85b59_row11_col0\" class=\"data row11 col0\" >Transformed Train Set</td>\n",
       "      <td id=\"T_85b59_row11_col1\" class=\"data row11 col1\" >(6085, 20)</td>\n",
       "    </tr>\n",
       "    <tr>\n",
       "      <th id=\"T_85b59_level0_row12\" class=\"row_heading level0 row12\" >12</th>\n",
       "      <td id=\"T_85b59_row12_col0\" class=\"data row12 col0\" >Transformed Test Set</td>\n",
       "      <td id=\"T_85b59_row12_col1\" class=\"data row12 col1\" >(2608, 20)</td>\n",
       "    </tr>\n",
       "    <tr>\n",
       "      <th id=\"T_85b59_level0_row13\" class=\"row_heading level0 row13\" >13</th>\n",
       "      <td id=\"T_85b59_row13_col0\" class=\"data row13 col0\" >Shuffle Train-Test</td>\n",
       "      <td id=\"T_85b59_row13_col1\" class=\"data row13 col1\" >True</td>\n",
       "    </tr>\n",
       "    <tr>\n",
       "      <th id=\"T_85b59_level0_row14\" class=\"row_heading level0 row14\" >14</th>\n",
       "      <td id=\"T_85b59_row14_col0\" class=\"data row14 col0\" >Stratify Train-Test</td>\n",
       "      <td id=\"T_85b59_row14_col1\" class=\"data row14 col1\" >False</td>\n",
       "    </tr>\n",
       "    <tr>\n",
       "      <th id=\"T_85b59_level0_row15\" class=\"row_heading level0 row15\" >15</th>\n",
       "      <td id=\"T_85b59_row15_col0\" class=\"data row15 col0\" >Fold Generator</td>\n",
       "      <td id=\"T_85b59_row15_col1\" class=\"data row15 col1\" >StratifiedKFold</td>\n",
       "    </tr>\n",
       "    <tr>\n",
       "      <th id=\"T_85b59_level0_row16\" class=\"row_heading level0 row16\" >16</th>\n",
       "      <td id=\"T_85b59_row16_col0\" class=\"data row16 col0\" >Fold Number</td>\n",
       "      <td id=\"T_85b59_row16_col1\" class=\"data row16 col1\" >10</td>\n",
       "    </tr>\n",
       "    <tr>\n",
       "      <th id=\"T_85b59_level0_row17\" class=\"row_heading level0 row17\" >17</th>\n",
       "      <td id=\"T_85b59_row17_col0\" class=\"data row17 col0\" >CPU Jobs</td>\n",
       "      <td id=\"T_85b59_row17_col1\" class=\"data row17 col1\" >-1</td>\n",
       "    </tr>\n",
       "    <tr>\n",
       "      <th id=\"T_85b59_level0_row18\" class=\"row_heading level0 row18\" >18</th>\n",
       "      <td id=\"T_85b59_row18_col0\" class=\"data row18 col0\" >Use GPU</td>\n",
       "      <td id=\"T_85b59_row18_col1\" class=\"data row18 col1\" >False</td>\n",
       "    </tr>\n",
       "    <tr>\n",
       "      <th id=\"T_85b59_level0_row19\" class=\"row_heading level0 row19\" >19</th>\n",
       "      <td id=\"T_85b59_row19_col0\" class=\"data row19 col0\" >Log Experiment</td>\n",
       "      <td id=\"T_85b59_row19_col1\" class=\"data row19 col1\" >False</td>\n",
       "    </tr>\n",
       "    <tr>\n",
       "      <th id=\"T_85b59_level0_row20\" class=\"row_heading level0 row20\" >20</th>\n",
       "      <td id=\"T_85b59_row20_col0\" class=\"data row20 col0\" >Experiment Name</td>\n",
       "      <td id=\"T_85b59_row20_col1\" class=\"data row20 col1\" >clf-default-name</td>\n",
       "    </tr>\n",
       "    <tr>\n",
       "      <th id=\"T_85b59_level0_row21\" class=\"row_heading level0 row21\" >21</th>\n",
       "      <td id=\"T_85b59_row21_col0\" class=\"data row21 col0\" >USI</td>\n",
       "      <td id=\"T_85b59_row21_col1\" class=\"data row21 col1\" >7454</td>\n",
       "    </tr>\n",
       "    <tr>\n",
       "      <th id=\"T_85b59_level0_row22\" class=\"row_heading level0 row22\" >22</th>\n",
       "      <td id=\"T_85b59_row22_col0\" class=\"data row22 col0\" >Imputation Type</td>\n",
       "      <td id=\"T_85b59_row22_col1\" class=\"data row22 col1\" >simple</td>\n",
       "    </tr>\n",
       "    <tr>\n",
       "      <th id=\"T_85b59_level0_row23\" class=\"row_heading level0 row23\" >23</th>\n",
       "      <td id=\"T_85b59_row23_col0\" class=\"data row23 col0\" >Iterative Imputation Iteration</td>\n",
       "      <td id=\"T_85b59_row23_col1\" class=\"data row23 col1\" >None</td>\n",
       "    </tr>\n",
       "    <tr>\n",
       "      <th id=\"T_85b59_level0_row24\" class=\"row_heading level0 row24\" >24</th>\n",
       "      <td id=\"T_85b59_row24_col0\" class=\"data row24 col0\" >Numeric Imputer</td>\n",
       "      <td id=\"T_85b59_row24_col1\" class=\"data row24 col1\" >mean</td>\n",
       "    </tr>\n",
       "    <tr>\n",
       "      <th id=\"T_85b59_level0_row25\" class=\"row_heading level0 row25\" >25</th>\n",
       "      <td id=\"T_85b59_row25_col0\" class=\"data row25 col0\" >Iterative Imputation Numeric Model</td>\n",
       "      <td id=\"T_85b59_row25_col1\" class=\"data row25 col1\" >None</td>\n",
       "    </tr>\n",
       "    <tr>\n",
       "      <th id=\"T_85b59_level0_row26\" class=\"row_heading level0 row26\" >26</th>\n",
       "      <td id=\"T_85b59_row26_col0\" class=\"data row26 col0\" >Categorical Imputer</td>\n",
       "      <td id=\"T_85b59_row26_col1\" class=\"data row26 col1\" >constant</td>\n",
       "    </tr>\n",
       "    <tr>\n",
       "      <th id=\"T_85b59_level0_row27\" class=\"row_heading level0 row27\" >27</th>\n",
       "      <td id=\"T_85b59_row27_col0\" class=\"data row27 col0\" >Iterative Imputation Categorical Model</td>\n",
       "      <td id=\"T_85b59_row27_col1\" class=\"data row27 col1\" >None</td>\n",
       "    </tr>\n",
       "    <tr>\n",
       "      <th id=\"T_85b59_level0_row28\" class=\"row_heading level0 row28\" >28</th>\n",
       "      <td id=\"T_85b59_row28_col0\" class=\"data row28 col0\" >Unknown Categoricals Handling</td>\n",
       "      <td id=\"T_85b59_row28_col1\" class=\"data row28 col1\" >least_frequent</td>\n",
       "    </tr>\n",
       "    <tr>\n",
       "      <th id=\"T_85b59_level0_row29\" class=\"row_heading level0 row29\" >29</th>\n",
       "      <td id=\"T_85b59_row29_col0\" class=\"data row29 col0\" >Normalize</td>\n",
       "      <td id=\"T_85b59_row29_col1\" class=\"data row29 col1\" >False</td>\n",
       "    </tr>\n",
       "    <tr>\n",
       "      <th id=\"T_85b59_level0_row30\" class=\"row_heading level0 row30\" >30</th>\n",
       "      <td id=\"T_85b59_row30_col0\" class=\"data row30 col0\" >Normalize Method</td>\n",
       "      <td id=\"T_85b59_row30_col1\" class=\"data row30 col1\" >None</td>\n",
       "    </tr>\n",
       "    <tr>\n",
       "      <th id=\"T_85b59_level0_row31\" class=\"row_heading level0 row31\" >31</th>\n",
       "      <td id=\"T_85b59_row31_col0\" class=\"data row31 col0\" >Transformation</td>\n",
       "      <td id=\"T_85b59_row31_col1\" class=\"data row31 col1\" >False</td>\n",
       "    </tr>\n",
       "    <tr>\n",
       "      <th id=\"T_85b59_level0_row32\" class=\"row_heading level0 row32\" >32</th>\n",
       "      <td id=\"T_85b59_row32_col0\" class=\"data row32 col0\" >Transformation Method</td>\n",
       "      <td id=\"T_85b59_row32_col1\" class=\"data row32 col1\" >None</td>\n",
       "    </tr>\n",
       "    <tr>\n",
       "      <th id=\"T_85b59_level0_row33\" class=\"row_heading level0 row33\" >33</th>\n",
       "      <td id=\"T_85b59_row33_col0\" class=\"data row33 col0\" >PCA</td>\n",
       "      <td id=\"T_85b59_row33_col1\" class=\"data row33 col1\" >False</td>\n",
       "    </tr>\n",
       "    <tr>\n",
       "      <th id=\"T_85b59_level0_row34\" class=\"row_heading level0 row34\" >34</th>\n",
       "      <td id=\"T_85b59_row34_col0\" class=\"data row34 col0\" >PCA Method</td>\n",
       "      <td id=\"T_85b59_row34_col1\" class=\"data row34 col1\" >None</td>\n",
       "    </tr>\n",
       "    <tr>\n",
       "      <th id=\"T_85b59_level0_row35\" class=\"row_heading level0 row35\" >35</th>\n",
       "      <td id=\"T_85b59_row35_col0\" class=\"data row35 col0\" >PCA Components</td>\n",
       "      <td id=\"T_85b59_row35_col1\" class=\"data row35 col1\" >None</td>\n",
       "    </tr>\n",
       "    <tr>\n",
       "      <th id=\"T_85b59_level0_row36\" class=\"row_heading level0 row36\" >36</th>\n",
       "      <td id=\"T_85b59_row36_col0\" class=\"data row36 col0\" >Ignore Low Variance</td>\n",
       "      <td id=\"T_85b59_row36_col1\" class=\"data row36 col1\" >False</td>\n",
       "    </tr>\n",
       "    <tr>\n",
       "      <th id=\"T_85b59_level0_row37\" class=\"row_heading level0 row37\" >37</th>\n",
       "      <td id=\"T_85b59_row37_col0\" class=\"data row37 col0\" >Combine Rare Levels</td>\n",
       "      <td id=\"T_85b59_row37_col1\" class=\"data row37 col1\" >False</td>\n",
       "    </tr>\n",
       "    <tr>\n",
       "      <th id=\"T_85b59_level0_row38\" class=\"row_heading level0 row38\" >38</th>\n",
       "      <td id=\"T_85b59_row38_col0\" class=\"data row38 col0\" >Rare Level Threshold</td>\n",
       "      <td id=\"T_85b59_row38_col1\" class=\"data row38 col1\" >None</td>\n",
       "    </tr>\n",
       "    <tr>\n",
       "      <th id=\"T_85b59_level0_row39\" class=\"row_heading level0 row39\" >39</th>\n",
       "      <td id=\"T_85b59_row39_col0\" class=\"data row39 col0\" >Numeric Binning</td>\n",
       "      <td id=\"T_85b59_row39_col1\" class=\"data row39 col1\" >False</td>\n",
       "    </tr>\n",
       "    <tr>\n",
       "      <th id=\"T_85b59_level0_row40\" class=\"row_heading level0 row40\" >40</th>\n",
       "      <td id=\"T_85b59_row40_col0\" class=\"data row40 col0\" >Remove Outliers</td>\n",
       "      <td id=\"T_85b59_row40_col1\" class=\"data row40 col1\" >False</td>\n",
       "    </tr>\n",
       "    <tr>\n",
       "      <th id=\"T_85b59_level0_row41\" class=\"row_heading level0 row41\" >41</th>\n",
       "      <td id=\"T_85b59_row41_col0\" class=\"data row41 col0\" >Outliers Threshold</td>\n",
       "      <td id=\"T_85b59_row41_col1\" class=\"data row41 col1\" >None</td>\n",
       "    </tr>\n",
       "    <tr>\n",
       "      <th id=\"T_85b59_level0_row42\" class=\"row_heading level0 row42\" >42</th>\n",
       "      <td id=\"T_85b59_row42_col0\" class=\"data row42 col0\" >Remove Multicollinearity</td>\n",
       "      <td id=\"T_85b59_row42_col1\" class=\"data row42 col1\" >False</td>\n",
       "    </tr>\n",
       "    <tr>\n",
       "      <th id=\"T_85b59_level0_row43\" class=\"row_heading level0 row43\" >43</th>\n",
       "      <td id=\"T_85b59_row43_col0\" class=\"data row43 col0\" >Multicollinearity Threshold</td>\n",
       "      <td id=\"T_85b59_row43_col1\" class=\"data row43 col1\" >None</td>\n",
       "    </tr>\n",
       "    <tr>\n",
       "      <th id=\"T_85b59_level0_row44\" class=\"row_heading level0 row44\" >44</th>\n",
       "      <td id=\"T_85b59_row44_col0\" class=\"data row44 col0\" >Remove Perfect Collinearity</td>\n",
       "      <td id=\"T_85b59_row44_col1\" class=\"data row44 col1\" >True</td>\n",
       "    </tr>\n",
       "    <tr>\n",
       "      <th id=\"T_85b59_level0_row45\" class=\"row_heading level0 row45\" >45</th>\n",
       "      <td id=\"T_85b59_row45_col0\" class=\"data row45 col0\" >Clustering</td>\n",
       "      <td id=\"T_85b59_row45_col1\" class=\"data row45 col1\" >False</td>\n",
       "    </tr>\n",
       "    <tr>\n",
       "      <th id=\"T_85b59_level0_row46\" class=\"row_heading level0 row46\" >46</th>\n",
       "      <td id=\"T_85b59_row46_col0\" class=\"data row46 col0\" >Clustering Iteration</td>\n",
       "      <td id=\"T_85b59_row46_col1\" class=\"data row46 col1\" >None</td>\n",
       "    </tr>\n",
       "    <tr>\n",
       "      <th id=\"T_85b59_level0_row47\" class=\"row_heading level0 row47\" >47</th>\n",
       "      <td id=\"T_85b59_row47_col0\" class=\"data row47 col0\" >Polynomial Features</td>\n",
       "      <td id=\"T_85b59_row47_col1\" class=\"data row47 col1\" >False</td>\n",
       "    </tr>\n",
       "    <tr>\n",
       "      <th id=\"T_85b59_level0_row48\" class=\"row_heading level0 row48\" >48</th>\n",
       "      <td id=\"T_85b59_row48_col0\" class=\"data row48 col0\" >Polynomial Degree</td>\n",
       "      <td id=\"T_85b59_row48_col1\" class=\"data row48 col1\" >None</td>\n",
       "    </tr>\n",
       "    <tr>\n",
       "      <th id=\"T_85b59_level0_row49\" class=\"row_heading level0 row49\" >49</th>\n",
       "      <td id=\"T_85b59_row49_col0\" class=\"data row49 col0\" >Trignometry Features</td>\n",
       "      <td id=\"T_85b59_row49_col1\" class=\"data row49 col1\" >False</td>\n",
       "    </tr>\n",
       "    <tr>\n",
       "      <th id=\"T_85b59_level0_row50\" class=\"row_heading level0 row50\" >50</th>\n",
       "      <td id=\"T_85b59_row50_col0\" class=\"data row50 col0\" >Polynomial Threshold</td>\n",
       "      <td id=\"T_85b59_row50_col1\" class=\"data row50 col1\" >None</td>\n",
       "    </tr>\n",
       "    <tr>\n",
       "      <th id=\"T_85b59_level0_row51\" class=\"row_heading level0 row51\" >51</th>\n",
       "      <td id=\"T_85b59_row51_col0\" class=\"data row51 col0\" >Group Features</td>\n",
       "      <td id=\"T_85b59_row51_col1\" class=\"data row51 col1\" >False</td>\n",
       "    </tr>\n",
       "    <tr>\n",
       "      <th id=\"T_85b59_level0_row52\" class=\"row_heading level0 row52\" >52</th>\n",
       "      <td id=\"T_85b59_row52_col0\" class=\"data row52 col0\" >Feature Selection</td>\n",
       "      <td id=\"T_85b59_row52_col1\" class=\"data row52 col1\" >False</td>\n",
       "    </tr>\n",
       "    <tr>\n",
       "      <th id=\"T_85b59_level0_row53\" class=\"row_heading level0 row53\" >53</th>\n",
       "      <td id=\"T_85b59_row53_col0\" class=\"data row53 col0\" >Feature Selection Method</td>\n",
       "      <td id=\"T_85b59_row53_col1\" class=\"data row53 col1\" >classic</td>\n",
       "    </tr>\n",
       "    <tr>\n",
       "      <th id=\"T_85b59_level0_row54\" class=\"row_heading level0 row54\" >54</th>\n",
       "      <td id=\"T_85b59_row54_col0\" class=\"data row54 col0\" >Features Selection Threshold</td>\n",
       "      <td id=\"T_85b59_row54_col1\" class=\"data row54 col1\" >None</td>\n",
       "    </tr>\n",
       "    <tr>\n",
       "      <th id=\"T_85b59_level0_row55\" class=\"row_heading level0 row55\" >55</th>\n",
       "      <td id=\"T_85b59_row55_col0\" class=\"data row55 col0\" >Feature Interaction</td>\n",
       "      <td id=\"T_85b59_row55_col1\" class=\"data row55 col1\" >False</td>\n",
       "    </tr>\n",
       "    <tr>\n",
       "      <th id=\"T_85b59_level0_row56\" class=\"row_heading level0 row56\" >56</th>\n",
       "      <td id=\"T_85b59_row56_col0\" class=\"data row56 col0\" >Feature Ratio</td>\n",
       "      <td id=\"T_85b59_row56_col1\" class=\"data row56 col1\" >False</td>\n",
       "    </tr>\n",
       "    <tr>\n",
       "      <th id=\"T_85b59_level0_row57\" class=\"row_heading level0 row57\" >57</th>\n",
       "      <td id=\"T_85b59_row57_col0\" class=\"data row57 col0\" >Interaction Threshold</td>\n",
       "      <td id=\"T_85b59_row57_col1\" class=\"data row57 col1\" >None</td>\n",
       "    </tr>\n",
       "    <tr>\n",
       "      <th id=\"T_85b59_level0_row58\" class=\"row_heading level0 row58\" >58</th>\n",
       "      <td id=\"T_85b59_row58_col0\" class=\"data row58 col0\" >Fix Imbalance</td>\n",
       "      <td id=\"T_85b59_row58_col1\" class=\"data row58 col1\" >False</td>\n",
       "    </tr>\n",
       "    <tr>\n",
       "      <th id=\"T_85b59_level0_row59\" class=\"row_heading level0 row59\" >59</th>\n",
       "      <td id=\"T_85b59_row59_col0\" class=\"data row59 col0\" >Fix Imbalance Method</td>\n",
       "      <td id=\"T_85b59_row59_col1\" class=\"data row59 col1\" >SMOTE</td>\n",
       "    </tr>\n",
       "  </tbody>\n",
       "</table>\n"
      ],
      "text/plain": [
       "<pandas.io.formats.style.Styler at 0x1e4cd7a6a08>"
      ]
     },
     "metadata": {},
     "output_type": "display_data"
    }
   ],
   "source": [
    "_ = setup(data=pd.concat([train_final, num_target], axis=1), target='Transported', numeric_features=train_final.columns.to_list())"
   ]
  },
  {
   "cell_type": "code",
   "execution_count": 32,
   "id": "14d85635",
   "metadata": {},
   "outputs": [
    {
     "data": {
      "text/html": [
       "<style type=\"text/css\">\n",
       "#T_739ca_ th {\n",
       "  text-align: left;\n",
       "}\n",
       "#T_739ca_row0_col0, #T_739ca_row0_col3, #T_739ca_row0_col4, #T_739ca_row0_col5, #T_739ca_row1_col0, #T_739ca_row1_col1, #T_739ca_row1_col2, #T_739ca_row1_col3, #T_739ca_row1_col4, #T_739ca_row1_col6, #T_739ca_row1_col7, #T_739ca_row2_col0, #T_739ca_row2_col1, #T_739ca_row2_col2, #T_739ca_row2_col3, #T_739ca_row2_col4, #T_739ca_row2_col5, #T_739ca_row2_col6, #T_739ca_row2_col7, #T_739ca_row3_col0, #T_739ca_row3_col1, #T_739ca_row3_col2, #T_739ca_row3_col3, #T_739ca_row3_col4, #T_739ca_row3_col5, #T_739ca_row3_col6, #T_739ca_row3_col7, #T_739ca_row4_col0, #T_739ca_row4_col1, #T_739ca_row4_col2, #T_739ca_row4_col3, #T_739ca_row4_col4, #T_739ca_row4_col5, #T_739ca_row4_col6, #T_739ca_row4_col7, #T_739ca_row5_col0, #T_739ca_row5_col1, #T_739ca_row5_col2, #T_739ca_row5_col3, #T_739ca_row5_col4, #T_739ca_row5_col5, #T_739ca_row5_col6, #T_739ca_row5_col7, #T_739ca_row6_col0, #T_739ca_row6_col1, #T_739ca_row6_col2, #T_739ca_row6_col3, #T_739ca_row6_col4, #T_739ca_row6_col5, #T_739ca_row6_col6, #T_739ca_row6_col7, #T_739ca_row7_col0, #T_739ca_row7_col1, #T_739ca_row7_col2, #T_739ca_row7_col3, #T_739ca_row7_col5, #T_739ca_row7_col6, #T_739ca_row7_col7, #T_739ca_row8_col0, #T_739ca_row8_col1, #T_739ca_row8_col2, #T_739ca_row8_col3, #T_739ca_row8_col4, #T_739ca_row8_col5, #T_739ca_row8_col6, #T_739ca_row8_col7, #T_739ca_row9_col0, #T_739ca_row9_col1, #T_739ca_row9_col2, #T_739ca_row9_col3, #T_739ca_row9_col4, #T_739ca_row9_col5, #T_739ca_row9_col6, #T_739ca_row9_col7, #T_739ca_row10_col0, #T_739ca_row10_col1, #T_739ca_row10_col2, #T_739ca_row10_col3, #T_739ca_row10_col4, #T_739ca_row10_col5, #T_739ca_row10_col6, #T_739ca_row10_col7, #T_739ca_row11_col0, #T_739ca_row11_col1, #T_739ca_row11_col2, #T_739ca_row11_col3, #T_739ca_row11_col4, #T_739ca_row11_col5, #T_739ca_row11_col6, #T_739ca_row11_col7, #T_739ca_row12_col0, #T_739ca_row12_col1, #T_739ca_row12_col2, #T_739ca_row12_col3, #T_739ca_row12_col4, #T_739ca_row12_col5, #T_739ca_row12_col6, #T_739ca_row12_col7, #T_739ca_row13_col0, #T_739ca_row13_col1, #T_739ca_row13_col2, #T_739ca_row13_col4, #T_739ca_row13_col5, #T_739ca_row13_col6, #T_739ca_row13_col7 {\n",
       "  text-align: left;\n",
       "}\n",
       "#T_739ca_row0_col1, #T_739ca_row0_col2, #T_739ca_row0_col6, #T_739ca_row0_col7, #T_739ca_row1_col5, #T_739ca_row7_col4, #T_739ca_row13_col3 {\n",
       "  text-align: left;\n",
       "  background-color: yellow;\n",
       "}\n",
       "#T_739ca_row0_col8, #T_739ca_row1_col8, #T_739ca_row2_col8, #T_739ca_row3_col8, #T_739ca_row4_col8, #T_739ca_row5_col8, #T_739ca_row6_col8, #T_739ca_row8_col8, #T_739ca_row9_col8, #T_739ca_row10_col8, #T_739ca_row11_col8 {\n",
       "  text-align: left;\n",
       "  background-color: lightgrey;\n",
       "}\n",
       "#T_739ca_row7_col8, #T_739ca_row12_col8, #T_739ca_row13_col8 {\n",
       "  text-align: left;\n",
       "  background-color: yellow;\n",
       "  background-color: lightgrey;\n",
       "}\n",
       "</style>\n",
       "<table id=\"T_739ca_\">\n",
       "  <thead>\n",
       "    <tr>\n",
       "      <th class=\"blank level0\" >&nbsp;</th>\n",
       "      <th class=\"col_heading level0 col0\" >Model</th>\n",
       "      <th class=\"col_heading level0 col1\" >Accuracy</th>\n",
       "      <th class=\"col_heading level0 col2\" >AUC</th>\n",
       "      <th class=\"col_heading level0 col3\" >Recall</th>\n",
       "      <th class=\"col_heading level0 col4\" >Prec.</th>\n",
       "      <th class=\"col_heading level0 col5\" >F1</th>\n",
       "      <th class=\"col_heading level0 col6\" >Kappa</th>\n",
       "      <th class=\"col_heading level0 col7\" >MCC</th>\n",
       "      <th class=\"col_heading level0 col8\" >TT (Sec)</th>\n",
       "    </tr>\n",
       "  </thead>\n",
       "  <tbody>\n",
       "    <tr>\n",
       "      <th id=\"T_739ca_level0_row0\" class=\"row_heading level0 row0\" >lightgbm</th>\n",
       "      <td id=\"T_739ca_row0_col0\" class=\"data row0 col0\" >Light Gradient Boosting Machine</td>\n",
       "      <td id=\"T_739ca_row0_col1\" class=\"data row0 col1\" >0.8090</td>\n",
       "      <td id=\"T_739ca_row0_col2\" class=\"data row0 col2\" >0.8921</td>\n",
       "      <td id=\"T_739ca_row0_col3\" class=\"data row0 col3\" >0.8245</td>\n",
       "      <td id=\"T_739ca_row0_col4\" class=\"data row0 col4\" >0.8009</td>\n",
       "      <td id=\"T_739ca_row0_col5\" class=\"data row0 col5\" >0.8124</td>\n",
       "      <td id=\"T_739ca_row0_col6\" class=\"data row0 col6\" >0.6180</td>\n",
       "      <td id=\"T_739ca_row0_col7\" class=\"data row0 col7\" >0.6186</td>\n",
       "      <td id=\"T_739ca_row0_col8\" class=\"data row0 col8\" >0.0600</td>\n",
       "    </tr>\n",
       "    <tr>\n",
       "      <th id=\"T_739ca_level0_row1\" class=\"row_heading level0 row1\" >gbc</th>\n",
       "      <td id=\"T_739ca_row1_col0\" class=\"data row1 col0\" >Gradient Boosting Classifier</td>\n",
       "      <td id=\"T_739ca_row1_col1\" class=\"data row1 col1\" >0.8051</td>\n",
       "      <td id=\"T_739ca_row1_col2\" class=\"data row1 col2\" >0.8915</td>\n",
       "      <td id=\"T_739ca_row1_col3\" class=\"data row1 col3\" >0.8461</td>\n",
       "      <td id=\"T_739ca_row1_col4\" class=\"data row1 col4\" >0.7831</td>\n",
       "      <td id=\"T_739ca_row1_col5\" class=\"data row1 col5\" >0.8132</td>\n",
       "      <td id=\"T_739ca_row1_col6\" class=\"data row1 col6\" >0.6101</td>\n",
       "      <td id=\"T_739ca_row1_col7\" class=\"data row1 col7\" >0.6125</td>\n",
       "      <td id=\"T_739ca_row1_col8\" class=\"data row1 col8\" >0.1000</td>\n",
       "    </tr>\n",
       "    <tr>\n",
       "      <th id=\"T_739ca_level0_row2\" class=\"row_heading level0 row2\" >lr</th>\n",
       "      <td id=\"T_739ca_row2_col0\" class=\"data row2 col0\" >Logistic Regression</td>\n",
       "      <td id=\"T_739ca_row2_col1\" class=\"data row2 col1\" >0.7975</td>\n",
       "      <td id=\"T_739ca_row2_col2\" class=\"data row2 col2\" >0.8828</td>\n",
       "      <td id=\"T_739ca_row2_col3\" class=\"data row2 col3\" >0.8084</td>\n",
       "      <td id=\"T_739ca_row2_col4\" class=\"data row2 col4\" >0.7926</td>\n",
       "      <td id=\"T_739ca_row2_col5\" class=\"data row2 col5\" >0.8001</td>\n",
       "      <td id=\"T_739ca_row2_col6\" class=\"data row2 col6\" >0.5950</td>\n",
       "      <td id=\"T_739ca_row2_col7\" class=\"data row2 col7\" >0.5957</td>\n",
       "      <td id=\"T_739ca_row2_col8\" class=\"data row2 col8\" >0.3420</td>\n",
       "    </tr>\n",
       "    <tr>\n",
       "      <th id=\"T_739ca_level0_row3\" class=\"row_heading level0 row3\" >ada</th>\n",
       "      <td id=\"T_739ca_row3_col0\" class=\"data row3 col0\" >Ada Boost Classifier</td>\n",
       "      <td id=\"T_739ca_row3_col1\" class=\"data row3 col1\" >0.7970</td>\n",
       "      <td id=\"T_739ca_row3_col2\" class=\"data row3 col2\" >0.8793</td>\n",
       "      <td id=\"T_739ca_row3_col3\" class=\"data row3 col3\" >0.8206</td>\n",
       "      <td id=\"T_739ca_row3_col4\" class=\"data row3 col4\" >0.7850</td>\n",
       "      <td id=\"T_739ca_row3_col5\" class=\"data row3 col5\" >0.8021</td>\n",
       "      <td id=\"T_739ca_row3_col6\" class=\"data row3 col6\" >0.5940</td>\n",
       "      <td id=\"T_739ca_row3_col7\" class=\"data row3 col7\" >0.5951</td>\n",
       "      <td id=\"T_739ca_row3_col8\" class=\"data row3 col8\" >0.0410</td>\n",
       "    </tr>\n",
       "    <tr>\n",
       "      <th id=\"T_739ca_level0_row4\" class=\"row_heading level0 row4\" >rf</th>\n",
       "      <td id=\"T_739ca_row4_col0\" class=\"data row4 col0\" >Random Forest Classifier</td>\n",
       "      <td id=\"T_739ca_row4_col1\" class=\"data row4 col1\" >0.7947</td>\n",
       "      <td id=\"T_739ca_row4_col2\" class=\"data row4 col2\" >0.8713</td>\n",
       "      <td id=\"T_739ca_row4_col3\" class=\"data row4 col3\" >0.7636</td>\n",
       "      <td id=\"T_739ca_row4_col4\" class=\"data row4 col4\" >0.8156</td>\n",
       "      <td id=\"T_739ca_row4_col5\" class=\"data row4 col5\" >0.7885</td>\n",
       "      <td id=\"T_739ca_row4_col6\" class=\"data row4 col6\" >0.5896</td>\n",
       "      <td id=\"T_739ca_row4_col7\" class=\"data row4 col7\" >0.5911</td>\n",
       "      <td id=\"T_739ca_row4_col8\" class=\"data row4 col8\" >0.2030</td>\n",
       "    </tr>\n",
       "    <tr>\n",
       "      <th id=\"T_739ca_level0_row5\" class=\"row_heading level0 row5\" >et</th>\n",
       "      <td id=\"T_739ca_row5_col0\" class=\"data row5 col0\" >Extra Trees Classifier</td>\n",
       "      <td id=\"T_739ca_row5_col1\" class=\"data row5 col1\" >0.7849</td>\n",
       "      <td id=\"T_739ca_row5_col2\" class=\"data row5 col2\" >0.8469</td>\n",
       "      <td id=\"T_739ca_row5_col3\" class=\"data row5 col3\" >0.7469</td>\n",
       "      <td id=\"T_739ca_row5_col4\" class=\"data row5 col4\" >0.8096</td>\n",
       "      <td id=\"T_739ca_row5_col5\" class=\"data row5 col5\" >0.7766</td>\n",
       "      <td id=\"T_739ca_row5_col6\" class=\"data row5 col6\" >0.5699</td>\n",
       "      <td id=\"T_739ca_row5_col7\" class=\"data row5 col7\" >0.5720</td>\n",
       "      <td id=\"T_739ca_row5_col8\" class=\"data row5 col8\" >0.1930</td>\n",
       "    </tr>\n",
       "    <tr>\n",
       "      <th id=\"T_739ca_level0_row6\" class=\"row_heading level0 row6\" >svm</th>\n",
       "      <td id=\"T_739ca_row6_col0\" class=\"data row6 col0\" >SVM - Linear Kernel</td>\n",
       "      <td id=\"T_739ca_row6_col1\" class=\"data row6 col1\" >0.7798</td>\n",
       "      <td id=\"T_739ca_row6_col2\" class=\"data row6 col2\" >0.0000</td>\n",
       "      <td id=\"T_739ca_row6_col3\" class=\"data row6 col3\" >0.7747</td>\n",
       "      <td id=\"T_739ca_row6_col4\" class=\"data row6 col4\" >0.7842</td>\n",
       "      <td id=\"T_739ca_row6_col5\" class=\"data row6 col5\" >0.7780</td>\n",
       "      <td id=\"T_739ca_row6_col6\" class=\"data row6 col6\" >0.5596</td>\n",
       "      <td id=\"T_739ca_row6_col7\" class=\"data row6 col7\" >0.5616</td>\n",
       "      <td id=\"T_739ca_row6_col8\" class=\"data row6 col8\" >0.0080</td>\n",
       "    </tr>\n",
       "    <tr>\n",
       "      <th id=\"T_739ca_level0_row7\" class=\"row_heading level0 row7\" >ridge</th>\n",
       "      <td id=\"T_739ca_row7_col0\" class=\"data row7 col0\" >Ridge Classifier</td>\n",
       "      <td id=\"T_739ca_row7_col1\" class=\"data row7 col1\" >0.7770</td>\n",
       "      <td id=\"T_739ca_row7_col2\" class=\"data row7 col2\" >0.0000</td>\n",
       "      <td id=\"T_739ca_row7_col3\" class=\"data row7 col3\" >0.7145</td>\n",
       "      <td id=\"T_739ca_row7_col4\" class=\"data row7 col4\" >0.8185</td>\n",
       "      <td id=\"T_739ca_row7_col5\" class=\"data row7 col5\" >0.7625</td>\n",
       "      <td id=\"T_739ca_row7_col6\" class=\"data row7 col6\" >0.5542</td>\n",
       "      <td id=\"T_739ca_row7_col7\" class=\"data row7 col7\" >0.5592</td>\n",
       "      <td id=\"T_739ca_row7_col8\" class=\"data row7 col8\" >0.0040</td>\n",
       "    </tr>\n",
       "    <tr>\n",
       "      <th id=\"T_739ca_level0_row8\" class=\"row_heading level0 row8\" >lda</th>\n",
       "      <td id=\"T_739ca_row8_col0\" class=\"data row8 col0\" >Linear Discriminant Analysis</td>\n",
       "      <td id=\"T_739ca_row8_col1\" class=\"data row8 col1\" >0.7768</td>\n",
       "      <td id=\"T_739ca_row8_col2\" class=\"data row8 col2\" >0.8613</td>\n",
       "      <td id=\"T_739ca_row8_col3\" class=\"data row8 col3\" >0.7141</td>\n",
       "      <td id=\"T_739ca_row8_col4\" class=\"data row8 col4\" >0.8184</td>\n",
       "      <td id=\"T_739ca_row8_col5\" class=\"data row8 col5\" >0.7623</td>\n",
       "      <td id=\"T_739ca_row8_col6\" class=\"data row8 col6\" >0.5539</td>\n",
       "      <td id=\"T_739ca_row8_col7\" class=\"data row8 col7\" >0.5589</td>\n",
       "      <td id=\"T_739ca_row8_col8\" class=\"data row8 col8\" >0.0060</td>\n",
       "    </tr>\n",
       "    <tr>\n",
       "      <th id=\"T_739ca_level0_row9\" class=\"row_heading level0 row9\" >knn</th>\n",
       "      <td id=\"T_739ca_row9_col0\" class=\"data row9 col0\" >K Neighbors Classifier</td>\n",
       "      <td id=\"T_739ca_row9_col1\" class=\"data row9 col1\" >0.7691</td>\n",
       "      <td id=\"T_739ca_row9_col2\" class=\"data row9 col2\" >0.8463</td>\n",
       "      <td id=\"T_739ca_row9_col3\" class=\"data row9 col3\" >0.7688</td>\n",
       "      <td id=\"T_739ca_row9_col4\" class=\"data row9 col4\" >0.7712</td>\n",
       "      <td id=\"T_739ca_row9_col5\" class=\"data row9 col5\" >0.7696</td>\n",
       "      <td id=\"T_739ca_row9_col6\" class=\"data row9 col6\" >0.5382</td>\n",
       "      <td id=\"T_739ca_row9_col7\" class=\"data row9 col7\" >0.5388</td>\n",
       "      <td id=\"T_739ca_row9_col8\" class=\"data row9 col8\" >0.0660</td>\n",
       "    </tr>\n",
       "    <tr>\n",
       "      <th id=\"T_739ca_level0_row10\" class=\"row_heading level0 row10\" >dt</th>\n",
       "      <td id=\"T_739ca_row10_col0\" class=\"data row10 col0\" >Decision Tree Classifier</td>\n",
       "      <td id=\"T_739ca_row10_col1\" class=\"data row10 col1\" >0.7463</td>\n",
       "      <td id=\"T_739ca_row10_col2\" class=\"data row10 col2\" >0.7621</td>\n",
       "      <td id=\"T_739ca_row10_col3\" class=\"data row10 col3\" >0.7518</td>\n",
       "      <td id=\"T_739ca_row10_col4\" class=\"data row10 col4\" >0.7448</td>\n",
       "      <td id=\"T_739ca_row10_col5\" class=\"data row10 col5\" >0.7480</td>\n",
       "      <td id=\"T_739ca_row10_col6\" class=\"data row10 col6\" >0.4925</td>\n",
       "      <td id=\"T_739ca_row10_col7\" class=\"data row10 col7\" >0.4928</td>\n",
       "      <td id=\"T_739ca_row10_col8\" class=\"data row10 col8\" >0.0060</td>\n",
       "    </tr>\n",
       "    <tr>\n",
       "      <th id=\"T_739ca_level0_row11\" class=\"row_heading level0 row11\" >qda</th>\n",
       "      <td id=\"T_739ca_row11_col0\" class=\"data row11 col0\" >Quadratic Discriminant Analysis</td>\n",
       "      <td id=\"T_739ca_row11_col1\" class=\"data row11 col1\" >0.7305</td>\n",
       "      <td id=\"T_739ca_row11_col2\" class=\"data row11 col2\" >0.8671</td>\n",
       "      <td id=\"T_739ca_row11_col3\" class=\"data row11 col3\" >0.9087</td>\n",
       "      <td id=\"T_739ca_row11_col4\" class=\"data row11 col4\" >0.6747</td>\n",
       "      <td id=\"T_739ca_row11_col5\" class=\"data row11 col5\" >0.7729</td>\n",
       "      <td id=\"T_739ca_row11_col6\" class=\"data row11 col6\" >0.4603</td>\n",
       "      <td id=\"T_739ca_row11_col7\" class=\"data row11 col7\" >0.4947</td>\n",
       "      <td id=\"T_739ca_row11_col8\" class=\"data row11 col8\" >0.0050</td>\n",
       "    </tr>\n",
       "    <tr>\n",
       "      <th id=\"T_739ca_level0_row12\" class=\"row_heading level0 row12\" >nb</th>\n",
       "      <td id=\"T_739ca_row12_col0\" class=\"data row12 col0\" >Naive Bayes</td>\n",
       "      <td id=\"T_739ca_row12_col1\" class=\"data row12 col1\" >0.7113</td>\n",
       "      <td id=\"T_739ca_row12_col2\" class=\"data row12 col2\" >0.8460</td>\n",
       "      <td id=\"T_739ca_row12_col3\" class=\"data row12 col3\" >0.9149</td>\n",
       "      <td id=\"T_739ca_row12_col4\" class=\"data row12 col4\" >0.6537</td>\n",
       "      <td id=\"T_739ca_row12_col5\" class=\"data row12 col5\" >0.7615</td>\n",
       "      <td id=\"T_739ca_row12_col6\" class=\"data row12 col6\" >0.4217</td>\n",
       "      <td id=\"T_739ca_row12_col7\" class=\"data row12 col7\" >0.4631</td>\n",
       "      <td id=\"T_739ca_row12_col8\" class=\"data row12 col8\" >0.0040</td>\n",
       "    </tr>\n",
       "    <tr>\n",
       "      <th id=\"T_739ca_level0_row13\" class=\"row_heading level0 row13\" >dummy</th>\n",
       "      <td id=\"T_739ca_row13_col0\" class=\"data row13 col0\" >Dummy Classifier</td>\n",
       "      <td id=\"T_739ca_row13_col1\" class=\"data row13 col1\" >0.5019</td>\n",
       "      <td id=\"T_739ca_row13_col2\" class=\"data row13 col2\" >0.5000</td>\n",
       "      <td id=\"T_739ca_row13_col3\" class=\"data row13 col3\" >1.0000</td>\n",
       "      <td id=\"T_739ca_row13_col4\" class=\"data row13 col4\" >0.5019</td>\n",
       "      <td id=\"T_739ca_row13_col5\" class=\"data row13 col5\" >0.6683</td>\n",
       "      <td id=\"T_739ca_row13_col6\" class=\"data row13 col6\" >0.0000</td>\n",
       "      <td id=\"T_739ca_row13_col7\" class=\"data row13 col7\" >0.0000</td>\n",
       "      <td id=\"T_739ca_row13_col8\" class=\"data row13 col8\" >0.0040</td>\n",
       "    </tr>\n",
       "  </tbody>\n",
       "</table>\n"
      ],
      "text/plain": [
       "<pandas.io.formats.style.Styler at 0x1e4cd8401c8>"
      ]
     },
     "metadata": {},
     "output_type": "display_data"
    }
   ],
   "source": [
    "best = compare_models()"
   ]
  },
  {
   "cell_type": "code",
   "execution_count": 33,
   "id": "fc4bbed2",
   "metadata": {},
   "outputs": [
    {
     "data": {
      "application/vnd.jupyter.widget-view+json": {
       "model_id": "49ffdb9793a94c43ba96c3112042be41",
       "version_major": 2,
       "version_minor": 0
      },
      "text/plain": [
       "interactive(children=(ToggleButtons(description='Plot Type:', icons=('',), options=(('Hyperparameters', 'param…"
      ]
     },
     "metadata": {},
     "output_type": "display_data"
    }
   ],
   "source": [
    "evaluate_model(best)"
   ]
  },
  {
   "cell_type": "code",
   "execution_count": 34,
   "id": "57d62e8c",
   "metadata": {},
   "outputs": [
    {
     "data": {
      "image/png": "[encoded data removed]",
      "text/plain": [
       "<Figure size 800x550 with 1 Axes>"
      ]
     },
     "metadata": {},
     "output_type": "display_data"
    }
   ],
   "source": [
    "plot_model(best, plot = 'confusion_matrix')"
   ]
  },
  {
   "cell_type": "code",
   "execution_count": 35,
   "id": "eb3ab17c",
   "metadata": {},
   "outputs": [],
   "source": [
    "def lightgbm(trial):\n",
    "    num_leaves  = trial.suggest_int('num_leaves', 5, 100)\n",
    "    max_depth = trial.suggest_int('max_depth', 1, 50)\n",
    "    learning_rate = trial.suggest_loguniform('learning_rate', .001, 1)\n",
    "    n_estimators = trial.suggest_int('n_estimators', 10, 500)\n",
    "    min_child_samples = trial.suggest_int('min_child_samples', 1, 100)\n",
    "          \n",
    "    model = LGBMClassifier(\n",
    "        num_leaves=num_leaves ,\n",
    "        max_depth=max_depth,\n",
    "        learning_rate=learning_rate,\n",
    "        n_estimators=n_estimators,\n",
    "        min_child_samples=min_child_samples\n",
    "    )\n",
    "    \n",
    "    model.fit(train_final, num_target)\n",
    "    \n",
    "    cv_scores = cross_val_score(model, train_final, num_target, scoring='accuracy', cv=kf)\n",
    "    \n",
    "    return np.mean(cv_scores)"
   ]
  },
  {
   "cell_type": "code",
   "execution_count": 36,
   "id": "435e1c13",
   "metadata": {},
   "outputs": [],
   "source": [
    "def gbc(trial):\n",
    "    #tol = trial.suggest_loguniform('tol', 1e-8, 10.0)\n",
    "    max_depth = trial.suggest_int('max_depth', 1, 50)\n",
    "    learning_rate = trial.suggest_loguniform('learning_rate', .001, 1)\n",
    "    n_estimators = trial.suggest_int('n_estimators', 10, 500)\n",
    "    min_samples_leaf = trial.suggest_int('min_samples_leaf', 1, 100)\n",
    "    max_leaf_nodes = trial.suggest_int('max_leaf_nodes', 2, 100)\n",
    "          \n",
    "    model = GradientBoostingClassifier(\n",
    "        #tol=tol,\n",
    "        max_depth=max_depth,\n",
    "        learning_rate=learning_rate,\n",
    "        n_estimators=n_estimators,\n",
    "        min_samples_leaf=min_samples_leaf,\n",
    "        max_leaf_nodes=max_leaf_nodes\n",
    "    )\n",
    "    \n",
    "    model.fit(train_final, num_target)\n",
    "    \n",
    "    cv_scores = cross_val_score(model, train_final, num_target, scoring='accuracy', cv=kf)\n",
    "    \n",
    "    return np.mean(cv_scores)"
   ]
  },
  {
   "cell_type": "code",
   "execution_count": 37,
   "id": "8968f93d",
   "metadata": {},
   "outputs": [],
   "source": [
    "def lr(trial):\n",
    "    tol = trial.suggest_loguniform('tol', 1e-8, 10.0)\n",
    "    max_iter = trial.suggest_int('max_iter', 5, 500)\n",
    "          \n",
    "    model = LogisticRegression(\n",
    "        tol=tol,\n",
    "        max_iter = max_iter,\n",
    "        solver='liblinear'\n",
    "    )\n",
    "    \n",
    "    model.fit(train_final, num_target)\n",
    "    \n",
    "    cv_scores = cross_val_score(model, train_final, num_target, scoring='accuracy', cv=kf)\n",
    "    \n",
    "    return np.mean(cv_scores)"
   ]
  },
  {
   "cell_type": "code",
   "execution_count": 38,
   "id": "af3b2a0f",
   "metadata": {},
   "outputs": [],
   "source": [
    "def ada(trial):\n",
    "    learning_rate = trial.suggest_loguniform('learning_rate', .001, 1)\n",
    "    n_estimators = trial.suggest_int('n_estimators', 10, 500)\n",
    "          \n",
    "    model = AdaBoostClassifier(\n",
    "        learning_rate=learning_rate,\n",
    "        n_estimators=n_estimators\n",
    "    )\n",
    "    \n",
    "    model.fit(train_final, num_target)\n",
    "    \n",
    "    cv_scores = cross_val_score(model, train_final, num_target, scoring='accuracy', cv=kf)\n",
    "    \n",
    "    return np.mean(cv_scores)"
   ]
  },
  {
   "cell_type": "code",
   "execution_count": 39,
   "id": "26bec75a",
   "metadata": {},
   "outputs": [],
   "source": [
    "def rf(trial):\n",
    "    max_depth = trial.suggest_int('max_depth', 1, 100)\n",
    "    n_estimators = trial.suggest_int('n_estimators', 10, 500)\n",
    "    min_samples_leaf = trial.suggest_int('min_samples_leaf', 1, 100)\n",
    "    max_leaf_nodes = trial.suggest_int('max_leaf_nodes', 2, 100)\n",
    "          \n",
    "    model = RandomForestClassifier(\n",
    "        max_depth=max_depth,\n",
    "        n_estimators=n_estimators,\n",
    "        min_samples_leaf=min_samples_leaf,\n",
    "        max_leaf_nodes=max_leaf_nodes\n",
    "    )\n",
    "    \n",
    "    model.fit(train_final, num_target)\n",
    "    \n",
    "    cv_scores = cross_val_score(model, train_final, num_target, scoring='accuracy', cv=kf)\n",
    "    \n",
    "    return np.mean(cv_scores)"
   ]
  },
  {
   "cell_type": "code",
   "execution_count": 40,
   "id": "23be9a8e",
   "metadata": {},
   "outputs": [
    {
     "name": "stderr",
     "output_type": "stream",
     "text": [
      "\u001b[32m[I 2023-02-06 09:21:54,539]\u001b[0m A new study created in memory with name: no-name-112655a3-544a-44af-b615-b42a6630d08f\u001b[0m\n"
     ]
    },
    {
     "data": {
      "text/plain": [
       "{'num_leaves': 15,\n",
       " 'max_depth': 21,\n",
       " 'learning_rate': 0.03587905325565621,\n",
       " 'n_estimators': 187,\n",
       " 'min_child_samples': 62}"
      ]
     },
     "execution_count": 40,
     "metadata": {},
     "output_type": "execute_result"
    }
   ],
   "source": [
    "# study = optuna.create_study(direction='maximize')\n",
    "# optuna.logging.set_verbosity(optuna.logging.WARNING)\n",
    "# study.optimize(lightgbm, n_trials=100)\n",
    "# study.best_params"
   ]
  },
  {
   "cell_type": "code",
   "execution_count": 41,
   "id": "0cea8859",
   "metadata": {},
   "outputs": [
    {
     "data": {
      "text/plain": [
       "{'max_depth': 28,\n",
       " 'learning_rate': 0.018232665393120646,\n",
       " 'n_estimators': 425,\n",
       " 'min_samples_leaf': 36,\n",
       " 'max_leaf_nodes': 12}"
      ]
     },
     "execution_count": 41,
     "metadata": {},
     "output_type": "execute_result"
    }
   ],
   "source": [
    "# study = optuna.create_study(direction='maximize')\n",
    "# optuna.logging.set_verbosity(optuna.logging.WARNING)\n",
    "# study.optimize(gbc, n_trials=100)\n",
    "# study.best_params"
   ]
  },
  {
   "cell_type": "code",
   "execution_count": 42,
   "id": "3fedbd49",
   "metadata": {},
   "outputs": [
    {
     "data": {
      "text/plain": [
       "{'tol': 5.063260994083119e-05, 'max_iter': 5}"
      ]
     },
     "execution_count": 42,
     "metadata": {},
     "output_type": "execute_result"
    }
   ],
   "source": [
    "# study = optuna.create_study(direction='maximize')\n",
    "# optuna.logging.set_verbosity(optuna.logging.WARNING)\n",
    "# study.optimize(lr, n_trials=100)\n",
    "# study.best_params"
   ]
  },
  {
   "cell_type": "code",
   "execution_count": 43,
   "id": "9d26387d",
   "metadata": {},
   "outputs": [
    {
     "data": {
      "text/plain": [
       "{'learning_rate': 0.6788563392087933, 'n_estimators': 217}"
      ]
     },
     "execution_count": 43,
     "metadata": {},
     "output_type": "execute_result"
    }
   ],
   "source": [
    "# study = optuna.create_study(direction='maximize')\n",
    "# optuna.logging.set_verbosity(optuna.logging.WARNING)\n",
    "# study.optimize(ada, n_trials=100)\n",
    "# study.best_params"
   ]
  },
  {
   "cell_type": "code",
   "execution_count": 44,
   "id": "bb39e397",
   "metadata": {},
   "outputs": [
    {
     "data": {
      "text/plain": [
       "{'max_depth': 70,\n",
       " 'n_estimators': 57,\n",
       " 'min_samples_leaf': 6,\n",
       " 'max_leaf_nodes': 94}"
      ]
     },
     "execution_count": 44,
     "metadata": {},
     "output_type": "execute_result"
    }
   ],
   "source": [
    "# study = optuna.create_study(direction='maximize')\n",
    "# optuna.logging.set_verbosity(optuna.logging.WARNING)\n",
    "# study.optimize(rf, n_trials=100)\n",
    "# study.best_params"
   ]
  },
  {
   "cell_type": "code",
   "execution_count": 45,
   "id": "78784c6d",
   "metadata": {},
   "outputs": [],
   "source": [
    "lightgbm_params = {\n",
    "    'num_leaves': 15,\n",
    "    'max_depth': 48,\n",
    "    'learning_rate': 0.026299056229909256,\n",
    "    'n_estimators': 353,\n",
    "    'min_child_samples': 64\n",
    "}\n",
    "\n",
    "gbc_params = {\n",
    "    'max_depth': 28,\n",
    "    'learning_rate': 0.018232665393120646,\n",
    "    'n_estimators': 425,\n",
    "    'min_samples_leaf': 36,\n",
    "    'max_leaf_nodes': 12\n",
    "}\n",
    "\n",
    "lr_params = {\n",
    "    'solver': 'liblinear',\n",
    "    'tol': 5.063260994083119e-05, \n",
    "    'max_iter': 5\n",
    "}\n",
    "\n",
    "ada_params = {\n",
    "    'learning_rate': 0.6788563392087933, \n",
    "    'n_estimators': 217\n",
    "}\n",
    "\n",
    "rf_params = {\n",
    "    'max_depth': 70,\n",
    "    'n_estimators': 57,\n",
    "    'min_samples_leaf': 6,\n",
    "    'max_leaf_nodes': 94\n",
    "}"
   ]
  },
  {
   "cell_type": "code",
   "execution_count": 47,
   "id": "3644b58d",
   "metadata": {},
   "outputs": [],
   "source": [
    "lightgbm_model = LGBMClassifier(**lightgbm_params, verbose=0)\n",
    "gbc_model = GradientBoostingClassifier(**gbc_params, verbose=0)\n",
    "lr_model = LogisticRegression(**lr_params, verbose=0)\n",
    "ada_model =  AdaBoostClassifier(**ada_params)\n",
    "rf_model = RandomForestClassifier(**rf_params, verbose=0)"
   ]
  },
  {
   "cell_type": "code",
   "execution_count": 53,
   "id": "ebdf9d0d",
   "metadata": {},
   "outputs": [],
   "source": [
    "final_model = VotingClassifier(estimators=[('lightgbm', lightgbm_model), \n",
    "                                           ('gbc', gbc_model), \n",
    "                                           ('lr', lr_model),\n",
    "                                           ('ada', ada_model),\n",
    "                                           ('rf', rf_model)], \n",
    "                               voting='soft')"
   ]
  },
  {
   "cell_type": "code",
   "execution_count": 54,
   "id": "57cd600d",
   "metadata": {},
   "outputs": [
    {
     "name": "stdout",
     "output_type": "stream",
     "text": [
      "[LightGBM] [Warning] Found whitespace in feature_names, replace with underlines\n",
      "[LightGBM] [Warning] Auto-choosing row-wise multi-threading, the overhead of testing was 0.000358 seconds.\n",
      "You can set `force_row_wise=true` to remove the overhead.\n",
      "And if memory is not enough, you can set `force_col_wise=true`.\n",
      "[LightGBM] [Warning] Found whitespace in feature_names, replace with underlines\n",
      "[LightGBM] [Warning] Auto-choosing row-wise multi-threading, the overhead of testing was 0.000236 seconds.\n",
      "You can set `force_row_wise=true` to remove the overhead.\n",
      "And if memory is not enough, you can set `force_col_wise=true`.\n",
      "[LightGBM] [Warning] Found whitespace in feature_names, replace with underlines\n",
      "[LightGBM] [Warning] Auto-choosing row-wise multi-threading, the overhead of testing was 0.000228 seconds.\n",
      "You can set `force_row_wise=true` to remove the overhead.\n",
      "And if memory is not enough, you can set `force_col_wise=true`.\n",
      "[LightGBM] [Warning] Found whitespace in feature_names, replace with underlines\n",
      "[LightGBM] [Warning] Auto-choosing row-wise multi-threading, the overhead of testing was 0.000318 seconds.\n",
      "You can set `force_row_wise=true` to remove the overhead.\n",
      "And if memory is not enough, you can set `force_col_wise=true`.\n",
      "[LightGBM] [Warning] Found whitespace in feature_names, replace with underlines\n",
      "[LightGBM] [Warning] Auto-choosing row-wise multi-threading, the overhead of testing was 0.000251 seconds.\n",
      "You can set `force_row_wise=true` to remove the overhead.\n",
      "And if memory is not enough, you can set `force_col_wise=true`.\n",
      "Accuracy: 0.8\n"
     ]
    }
   ],
   "source": [
    "results_ensemble = []\n",
    "\n",
    "r_ensemble = cross_val_score(final_model, train_final, num_target, scoring='accuracy')\n",
    "results_ensemble.append(r_ensemble)\n",
    "print(f'Accuracy: {np.mean(results_ensemble).round(2)}')"
   ]
  },
  {
   "cell_type": "code",
   "execution_count": 55,
   "id": "62ba34fa",
   "metadata": {},
   "outputs": [
    {
     "name": "stdout",
     "output_type": "stream",
     "text": [
      "[LightGBM] [Warning] Found whitespace in feature_names, replace with underlines\n",
      "[LightGBM] [Warning] Auto-choosing row-wise multi-threading, the overhead of testing was 0.000375 seconds.\n",
      "You can set `force_row_wise=true` to remove the overhead.\n",
      "And if memory is not enough, you can set `force_col_wise=true`.\n"
     ]
    },
    {
     "data": {
      "text/plain": [
       "VotingClassifier(estimators=[('lightgbm',\n",
       "                              LGBMClassifier(boosting_type='gbdt',\n",
       "                                             class_weight=None,\n",
       "                                             colsample_bytree=1.0,\n",
       "                                             importance_type='split',\n",
       "                                             learning_rate=0.026299056229909256,\n",
       "                                             max_depth=48, min_child_samples=64,\n",
       "                                             min_child_weight=0.001,\n",
       "                                             min_split_gain=0.0,\n",
       "                                             n_estimators=353, n_jobs=-1,\n",
       "                                             num_leaves=15, objective=None,\n",
       "                                             random_state=None, reg_alpha=0.0,\n",
       "                                             reg_lambda=...\n",
       "                                                     max_depth=70,\n",
       "                                                     max_features='auto',\n",
       "                                                     max_leaf_nodes=94,\n",
       "                                                     max_samples=None,\n",
       "                                                     min_impurity_decrease=0.0,\n",
       "                                                     min_impurity_split=None,\n",
       "                                                     min_samples_leaf=6,\n",
       "                                                     min_samples_split=2,\n",
       "                                                     min_weight_fraction_leaf=0.0,\n",
       "                                                     n_estimators=57,\n",
       "                                                     n_jobs=None,\n",
       "                                                     oob_score=False,\n",
       "                                                     random_state=None,\n",
       "                                                     verbose=0,\n",
       "                                                     warm_start=False))],\n",
       "                 flatten_transform=True, n_jobs=None, verbose=False,\n",
       "                 voting='soft', weights=None)"
      ]
     },
     "execution_count": 55,
     "metadata": {},
     "output_type": "execute_result"
    }
   ],
   "source": [
    "final_model.fit(train_final, num_target)"
   ]
  },
  {
   "cell_type": "code",
   "execution_count": 56,
   "id": "63a34041",
   "metadata": {},
   "outputs": [
    {
     "data": {
      "text/html": [
       "<div>\n",
       "<style scoped>\n",
       "    .dataframe tbody tr th:only-of-type {\n",
       "        vertical-align: middle;\n",
       "    }\n",
       "\n",
       "    .dataframe tbody tr th {\n",
       "        vertical-align: top;\n",
       "    }\n",
       "\n",
       "    .dataframe thead th {\n",
       "        text-align: right;\n",
       "    }\n",
       "</style>\n",
       "<table border=\"1\" class=\"dataframe\">\n",
       "  <thead>\n",
       "    <tr style=\"text-align: right;\">\n",
       "      <th></th>\n",
       "      <th>PassengerId</th>\n",
       "      <th>Transported</th>\n",
       "    </tr>\n",
       "  </thead>\n",
       "  <tbody>\n",
       "    <tr>\n",
       "      <th>0</th>\n",
       "      <td>0013_01</td>\n",
       "      <td>True</td>\n",
       "    </tr>\n",
       "    <tr>\n",
       "      <th>1</th>\n",
       "      <td>0018_01</td>\n",
       "      <td>False</td>\n",
       "    </tr>\n",
       "    <tr>\n",
       "      <th>2</th>\n",
       "      <td>0019_01</td>\n",
       "      <td>True</td>\n",
       "    </tr>\n",
       "    <tr>\n",
       "      <th>3</th>\n",
       "      <td>0021_01</td>\n",
       "      <td>True</td>\n",
       "    </tr>\n",
       "    <tr>\n",
       "      <th>4</th>\n",
       "      <td>0023_01</td>\n",
       "      <td>True</td>\n",
       "    </tr>\n",
       "    <tr>\n",
       "      <th>...</th>\n",
       "      <td>...</td>\n",
       "      <td>...</td>\n",
       "    </tr>\n",
       "    <tr>\n",
       "      <th>4272</th>\n",
       "      <td>9266_02</td>\n",
       "      <td>True</td>\n",
       "    </tr>\n",
       "    <tr>\n",
       "      <th>4273</th>\n",
       "      <td>9269_01</td>\n",
       "      <td>False</td>\n",
       "    </tr>\n",
       "    <tr>\n",
       "      <th>4274</th>\n",
       "      <td>9271_01</td>\n",
       "      <td>True</td>\n",
       "    </tr>\n",
       "    <tr>\n",
       "      <th>4275</th>\n",
       "      <td>9273_01</td>\n",
       "      <td>True</td>\n",
       "    </tr>\n",
       "    <tr>\n",
       "      <th>4276</th>\n",
       "      <td>9277_01</td>\n",
       "      <td>True</td>\n",
       "    </tr>\n",
       "  </tbody>\n",
       "</table>\n",
       "<p>4277 rows × 2 columns</p>\n",
       "</div>"
      ],
      "text/plain": [
       "     PassengerId  Transported\n",
       "0        0013_01         True\n",
       "1        0018_01        False\n",
       "2        0019_01         True\n",
       "3        0021_01         True\n",
       "4        0023_01         True\n",
       "...          ...          ...\n",
       "4272     9266_02         True\n",
       "4273     9269_01        False\n",
       "4274     9271_01         True\n",
       "4275     9273_01         True\n",
       "4276     9277_01         True\n",
       "\n",
       "[4277 rows x 2 columns]"
      ]
     },
     "execution_count": 56,
     "metadata": {},
     "output_type": "execute_result"
    }
   ],
   "source": [
    "final_predictions = final_model.predict(test_final).astype(bool)\n",
    "\n",
    "submission = pd.concat([pd.Series(test_data.PassengerId), pd.Series(final_predictions, name='Transported')], axis=1)\n",
    "submission"
   ]
  },
  {
   "cell_type": "code",
   "execution_count": 57,
   "id": "11d22ffe",
   "metadata": {},
   "outputs": [],
   "source": [
    "submission.to_csv('submission_ensemble_model.csv', index=False)#, header=True)"
   ]
  },
  {
   "cell_type": "code",
   "execution_count": null,
   "id": "34f45a51",
   "metadata": {},
   "outputs": [],
   "source": [
    "# final_predictions = rf.predict(test_final).astype(bool)\n",
    "\n",
    "# submission = pd.concat([pd.Series(test_data.PassengerId), pd.Series(final_predictions, name='Transported')], axis=1)\n",
    "# submission"
   ]
  },
  {
   "cell_type": "code",
   "execution_count": null,
   "id": "f3f20421",
   "metadata": {},
   "outputs": [],
   "source": [
    "# submission.to_csv('submission_base_model.csv', index=False)#, header=True)"
   ]
  },
  {
   "cell_type": "code",
   "execution_count": null,
   "id": "be9e1c05",
   "metadata": {},
   "outputs": [],
   "source": []
  }
 ],
 "metadata": {
  "kernelspec": {
   "display_name": "Python 3 (ipykernel)",
   "language": "python",
   "name": "python3"
  },
  "language_info": {
   "codemirror_mode": {
    "name": "ipython",
    "version": 3
   },
   "file_extension": ".py",
   "mimetype": "text/x-python",
   "name": "python",
   "nbconvert_exporter": "python",
   "pygments_lexer": "ipython3",
   "version": "3.7.15"
  }
 },
 "nbformat": 4,
 "nbformat_minor": 5
}
